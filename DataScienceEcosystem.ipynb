{
 "cells": [
  {
   "cell_type": "markdown",
   "id": "0da9f030-d87b-41a2-80b6-52e7e77bc9fc",
   "metadata": {},
   "source": [
    "# Data Science Tools and Ecosystem"
   ]
  },
  {
   "cell_type": "markdown",
   "id": "17736723-0c49-4ccf-bf71-086b41abb333",
   "metadata": {},
   "source": [
    "In this notebook, Data Science Tools and Ecosystem are summarized.\n",
    "# Objectives:\n",
    "1. Drive informed decision making\n",
    "2. Enable predictive analytics\n",
    "3. Solve complex problems\n",
    "Some popular languages have been covered such as :\n",
    "* Python\n",
    "* R\n",
    "* Jupyther Notebook\n"
   ]
  },
  {
   "cell_type": "markdown",
   "id": "99a7a0a4-6b1a-4e23-9bd9-89d723a645fb",
   "metadata": {},
   "source": [
    "Some of the popular languages that Data Scientists use are:\n",
    "1. Python\n",
    "2.R\n",
    "3.Julia"
   ]
  },
  {
   "cell_type": "markdown",
   "id": "e5d1e7e8-7244-49f3-9fbe-c88f2b71ea39",
   "metadata": {},
   "source": [
    "Some of the popular languages that Data Scientists use are:\n",
    "1.NumPy\n",
    "2.Pandas\n",
    "3.Scipy"
   ]
  },
  {
   "cell_type": "markdown",
   "id": "05c779e8-cd41-482e-b827-9d88c020ef11",
   "metadata": {},
   "source": [
    "|# Data Science Tools |\n",
    "|.....................|\n",
    "|Jupyther notebook|\n",
    "|Python Pandas    |\n",
    "|Scikit- learn    |\n",
    "\n",
    "    "
   ]
  },
  {
   "cell_type": "markdown",
   "id": "33f89afc-8c7d-4a5a-aea1-82961922a005",
   "metadata": {},
   "source": [
    "### Below are a few examples of evaluating arithmetic expressions in Python\n",
    "|Operator|Operation|Example|\n",
    "|........|.........|.......|\n",
    "|+       | Addition|2+1=3   |\n",
    "|-       |Substraction|5-3=2 |\n",
    "|*       |Multiplication| 5*2=10|\n",
    "|/       |Division      |6/2=3|\n"
   ]
  },
  {
   "cell_type": "code",
   "execution_count": 5,
   "id": "76f6c793-f32b-4151-ba1c-c824368c5e60",
   "metadata": {},
   "outputs": [
    {
     "data": {
      "text/plain": [
       "17"
      ]
     },
     "execution_count": 5,
     "metadata": {},
     "output_type": "execute_result"
    }
   ],
   "source": [
    "# This a simple arithmetic expression to mutiply then add integers\n",
    "(3*4)+5"
   ]
  },
  {
   "cell_type": "code",
   "execution_count": 9,
   "id": "c695399f-bb49-47be-9aa2-82a27938ef94",
   "metadata": {},
   "outputs": [
    {
     "data": {
      "text/plain": [
       "3.3333333333333335"
      ]
     },
     "execution_count": 9,
     "metadata": {},
     "output_type": "execute_result"
    }
   ],
   "source": [
    "# This will convert 200 minutes to hours by diving by 60\n",
    "200/60\n"
   ]
  },
  {
   "cell_type": "markdown",
   "id": "55e90760-8562-4685-8e51-e5591ad5e51b",
   "metadata": {},
   "source": [
    "## Author\n",
    "Marc Singirankabo"
   ]
  }
 ],
 "metadata": {
  "kernelspec": {
   "display_name": "anaconda-panel-2023.05-py310",
   "language": "python",
   "name": "conda-env-anaconda-panel-2023.05-py310-py"
  },
  "language_info": {
   "codemirror_mode": {
    "name": "ipython",
    "version": 3
   },
   "file_extension": ".py",
   "mimetype": "text/x-python",
   "name": "python",
   "nbconvert_exporter": "python",
   "pygments_lexer": "ipython3",
   "version": "3.11.5"
  }
 },
 "nbformat": 4,
 "nbformat_minor": 5
}
